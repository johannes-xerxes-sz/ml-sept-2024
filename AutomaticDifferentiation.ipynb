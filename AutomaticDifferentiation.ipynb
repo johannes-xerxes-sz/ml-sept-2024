{
  "nbformat": 4,
  "nbformat_minor": 0,
  "metadata": {
    "colab": {
      "provenance": []
    },
    "kernelspec": {
      "name": "python3",
      "display_name": "Python 3"
    },
    "language_info": {
      "name": "python"
    }
  },
  "cells": [
    {
      "cell_type": "code",
      "execution_count": null,
      "metadata": {
        "id": "SqIyqlNvD1FI"
      },
      "outputs": [],
      "source": [
        "import torch"
      ]
    },
    {
      "cell_type": "code",
      "source": [
        "x = torch.tensor(5., requires_grad=True)\n",
        "y = torch.tensor(3., requires_grad=True)\n",
        "z = x * y\n",
        "\n",
        "print(f\"f(x, y) = {z.item()}\")\n",
        "\n",
        "z.backward()\n",
        "\n",
        "print(f\"df/dx = {x.grad.item()}\")\n",
        "print(f\"df/dy = {y.grad.item()}\")"
      ],
      "metadata": {
        "id": "ey0BPpgeD9qY"
      },
      "execution_count": null,
      "outputs": []
    },
    {
      "cell_type": "code",
      "source": [
        "x = torch.tensor([5., 3.], requires_grad=True)\n",
        "z = x[0] * x[1]\n",
        "\n",
        "print(f\"f(x, y) = {z.item()}\")\n",
        "\n",
        "z.backward()\n",
        "\n",
        "print(f\"df/dx = {x.grad.tolist()}\")"
      ],
      "metadata": {
        "id": "jQdvSFQXEOuy"
      },
      "execution_count": null,
      "outputs": []
    }
  ]
}