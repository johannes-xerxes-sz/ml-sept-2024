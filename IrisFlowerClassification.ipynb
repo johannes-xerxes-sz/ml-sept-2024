{
  "nbformat": 4,
  "nbformat_minor": 0,
  "metadata": {
    "colab": {
      "provenance": []
    },
    "kernelspec": {
      "name": "python3",
      "display_name": "Python 3"
    },
    "language_info": {
      "name": "python"
    }
  },
  "cells": [
    {
      "cell_type": "code",
      "execution_count": null,
      "metadata": {
        "id": "7F2W-S8GG_lX"
      },
      "outputs": [],
      "source": [
        "import torch\n",
        "import torch.nn as nn\n",
        "import torch.optim as optim\n",
        "import matplotlib.pyplot as plt\n",
        "from torch.nn import functional as F\n",
        "from torch.utils.data import DataLoader, TensorDataset\n",
        "from sklearn.datasets import load_iris\n",
        "from sklearn.decomposition import PCA\n",
        "from sklearn.model_selection import train_test_split"
      ]
    },
    {
      "cell_type": "code",
      "source": [
        "class MLP(nn.Module):\n",
        "    \"\"\"\n",
        "    A multi-layer perceptron (MLP) module consisting of two fully connected layers\n",
        "    with GELU activation and dropout regularization.\n",
        "\n",
        "    :param dim: Input and output dimension of the model.\n",
        "    :param multiplier: Multiplier for hidden dimension size.\n",
        "    :param bias: Whether to use bias in linear layers.\n",
        "    :param dropout: Dropout rate applied after each layer.\n",
        "    \"\"\"\n",
        "    def __init__(\n",
        "        self,\n",
        "        dim: int,\n",
        "        multiplier: int,\n",
        "        bias: bool = True,\n",
        "        dropout: float = 0.1,\n",
        "    ):\n",
        "        super().__init__()\n",
        "        hidden_dim = dim * multiplier\n",
        "        self.fc1 = nn.Sequential(\n",
        "            nn.Linear(dim, hidden_dim, bias=bias),\n",
        "            nn.GELU(),\n",
        "            nn.Dropout(dropout),\n",
        "        )\n",
        "        self.fc2 = nn.Sequential(\n",
        "            nn.Linear(hidden_dim, dim, bias=bias),\n",
        "            nn.Dropout(dropout),\n",
        "        )\n",
        "\n",
        "    def forward(self, x: torch.Tensor) -> torch.Tensor:\n",
        "        \"\"\"\n",
        "        Forward pass through the MLP.\n",
        "\n",
        "        :param x: Input tensor of shape (*, dim).\n",
        "        :return: Output tensor of shape (*, dim).\n",
        "        \"\"\"\n",
        "        x = self.fc1(x)\n",
        "        x = self.fc2(x)\n",
        "        return x"
      ],
      "metadata": {
        "id": "YVQuTRSFHC_6"
      },
      "execution_count": null,
      "outputs": []
    },
    {
      "cell_type": "code",
      "source": [
        "def load_and_preprocess_data(test_size: float = 0.2) -> tuple[TensorDataset, TensorDataset]:\n",
        "    \"\"\"\n",
        "    Load and preprocess the Iris dataset. Features are standardized to have a mean of 0 and a\n",
        "    standard distribution of 1, and the dataset is split into training and testing splits.\n",
        "\n",
        "    :param test_size: Proportion of the dataset to use as the test split.\n",
        "    :return: A tuple of (train_dataset, test_dataset) as PyTorch TensorDatasets.\n",
        "    \"\"\"\n",
        "    iris = load_iris()\n",
        "    X = iris.data\n",
        "    y = iris.target\n",
        "\n",
        "    pca = PCA(n_components=2)\n",
        "    X_pca = pca.fit_transform(X)\n",
        "    plt.scatter(X_pca[:, 0], X_pca[:, 1], c=y)\n",
        "    plt.show()\n",
        "\n",
        "    mean, std = X.mean(axis=0, keepdims=True), X.std(axis=0, keepdims=True)\n",
        "    X = (X - mean) / std\n",
        "\n",
        "    X_train, X_test, y_train, y_test = train_test_split(X, y, test_size=test_size, random_state=42)\n",
        "\n",
        "    X_train_tensor = torch.tensor(X_train, dtype=torch.float32)\n",
        "    y_train_tensor = torch.tensor(y_train, dtype=torch.long)\n",
        "    X_test_tensor = torch.tensor(X_test, dtype=torch.float32)\n",
        "    y_test_tensor = torch.tensor(y_test, dtype=torch.long)\n",
        "\n",
        "    train_dataset = TensorDataset(X_train_tensor, y_train_tensor)\n",
        "    test_dataset = TensorDataset(X_test_tensor, y_test_tensor)\n",
        "\n",
        "    return train_dataset, test_dataset"
      ],
      "metadata": {
        "id": "4XBq5tO9HMjv"
      },
      "execution_count": null,
      "outputs": []
    },
    {
      "cell_type": "code",
      "source": [
        "def train_model(\n",
        "    model: nn.Module,\n",
        "    train_loader: DataLoader,\n",
        "    optimizer: optim.Optimizer,\n",
        "    num_epochs: int = 100\n",
        ") -> None:\n",
        "    \"\"\"\n",
        "    Train the model on the Iris Flower dataset.\n",
        "\n",
        "    :param model: The neural network model to be trained.\n",
        "    :param train_loader: DataLoader for the training dataset.\n",
        "    :param optimizer: Optimizer for model parameters (e.g., SGD or Adam).\n",
        "    :param num_epochs: Number of epochs to train the model for.\n",
        "    \"\"\"\n",
        "    model.train()\n",
        "    for epoch in range(1, num_epochs + 1):\n",
        "        running_loss = 0.0\n",
        "        for inputs, labels in train_loader:\n",
        "            optimizer.zero_grad()\n",
        "            outputs = model(inputs)\n",
        "            loss = F.cross_entropy(outputs, labels)\n",
        "            loss.backward()\n",
        "            optimizer.step()\n",
        "            running_loss += loss.item()\n",
        "\n",
        "        if epoch % 10 == 0:\n",
        "            print(f\"Epoch [{epoch}/{num_epochs}], Loss: {running_loss/len(train_loader):.4f}\")"
      ],
      "metadata": {
        "id": "XJUM5uRSHqrn"
      },
      "execution_count": null,
      "outputs": []
    },
    {
      "cell_type": "code",
      "source": [
        "@torch.no_grad()\n",
        "def test_model(\n",
        "    model: nn.Module,\n",
        "    test_loader: DataLoader,\n",
        ") -> None:\n",
        "    \"\"\"\n",
        "    Evaluate the trained model on the test dataset.\n",
        "\n",
        "    :param model: The trained neural network model.\n",
        "    :param test_loader: DataLoader for the test dataset.\n",
        "    \"\"\"\n",
        "    model.eval()\n",
        "    correct = 0\n",
        "    total = 0\n",
        "    test_loss = 0.0\n",
        "    for inputs, labels in test_loader:\n",
        "        outputs = model(inputs)\n",
        "        loss = F.cross_entropy(outputs, labels)\n",
        "        test_loss += loss.item()\n",
        "        _, predicted = torch.max(outputs, dim=1)\n",
        "        total += labels.size(0)\n",
        "        correct += (predicted == labels).sum().item()\n",
        "\n",
        "    accuracy = 100 * correct / total\n",
        "    print(f\"Test Loss: {test_loss/len(test_loader):.4f}, Test Accuracy: {accuracy:.2f}%\")"
      ],
      "metadata": {
        "id": "T7n4gQ0EIgqn"
      },
      "execution_count": null,
      "outputs": []
    },
    {
      "cell_type": "code",
      "source": [
        "train_dataset, test_dataset = load_and_preprocess_data()\n",
        "\n",
        "print(f\"Training on {len(train_dataset)} samples\")\n",
        "print(f\"Testing on {len(test_dataset)} samples\")\n",
        "\n",
        "train_loader = DataLoader(train_dataset, batch_size=16, shuffle=True)\n",
        "test_loader = DataLoader(test_dataset, batch_size=16, shuffle=False)"
      ],
      "metadata": {
        "id": "Is-dOlNrIvD1"
      },
      "execution_count": null,
      "outputs": []
    },
    {
      "cell_type": "code",
      "source": [
        "model = nn.Sequential(\n",
        "    nn.Linear(4, 5),\n",
        "    MLP(5, 4),\n",
        "    nn.Linear(5, 3),\n",
        ")\n",
        "optimizer = optim.Adam(model.parameters(), lr=0.001)"
      ],
      "metadata": {
        "id": "Imy6kl_yIxIO"
      },
      "execution_count": null,
      "outputs": []
    },
    {
      "cell_type": "code",
      "source": [
        "train_model(model, train_loader, optimizer, num_epochs=150)"
      ],
      "metadata": {
        "id": "ebp8UQxWI8w2"
      },
      "execution_count": null,
      "outputs": []
    },
    {
      "cell_type": "code",
      "source": [
        "test_model(model, test_loader)"
      ],
      "metadata": {
        "id": "Mrg8i0_-JAUM"
      },
      "execution_count": null,
      "outputs": []
    },
    {
      "cell_type": "code",
      "source": [
        "with torch.no_grad():\n",
        "    data = list(train_dataset) + list(test_dataset)\n",
        "    x, y = zip(*data)\n",
        "    x = torch.stack(x)\n",
        "    y = torch.stack(y)\n",
        "\n",
        "    features = model[:-1](x)\n",
        "    pca = PCA(n_components=2)\n",
        "    features_pca = pca.fit_transform(features)\n",
        "    plt.scatter(features_pca[:, 0], features_pca[:, 1], c=y)\n",
        "    plt.show()"
      ],
      "metadata": {
        "id": "8pw-gCgYNQO4"
      },
      "execution_count": null,
      "outputs": []
    }
  ]
}