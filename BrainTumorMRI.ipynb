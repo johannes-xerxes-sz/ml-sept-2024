{
  "nbformat": 4,
  "nbformat_minor": 0,
  "metadata": {
    "colab": {
      "provenance": [],
      "gpuType": "T4"
    },
    "kernelspec": {
      "name": "python3",
      "display_name": "Python 3"
    },
    "language_info": {
      "name": "python"
    },
    "accelerator": "GPU"
  },
  "cells": [
    {
      "cell_type": "code",
      "source": [
        "!unzip brain_tumor_dataset.zip"
      ],
      "metadata": {
        "id": "W8N9N6arpqlY"
      },
      "execution_count": null,
      "outputs": []
    },
    {
      "cell_type": "code",
      "execution_count": null,
      "metadata": {
        "id": "mZSlKnO3pKaK"
      },
      "outputs": [],
      "source": [
        "import torch\n",
        "from torch import nn\n",
        "from torch.nn import functional as F\n",
        "from torch.utils.data import random_split, DataLoader\n",
        "from torch.optim import AdamW\n",
        "from torchvision.datasets import ImageFolder\n",
        "from transformers import CLIPImageProcessor, CLIPVisionModel\n",
        "from tqdm import tqdm"
      ]
    },
    {
      "cell_type": "code",
      "source": [
        "preprocessor = CLIPImageProcessor.from_pretrained(\"openai/clip-vit-base-patch32\")\n",
        "vit_model = CLIPVisionModel.from_pretrained(\"openai/clip-vit-base-patch32\").cuda()"
      ],
      "metadata": {
        "id": "QFaoHHscp2Q3"
      },
      "execution_count": null,
      "outputs": []
    },
    {
      "cell_type": "code",
      "source": [
        "def preprocess_image(img):\n",
        "    return preprocessor(img, return_tensors=\"pt\")[\"pixel_values\"][0]"
      ],
      "metadata": {
        "id": "L_7HfGBcqOTo"
      },
      "execution_count": null,
      "outputs": []
    },
    {
      "cell_type": "code",
      "source": [
        "dataset = ImageFolder(\"brain_tumor_dataset\", transform=preprocess_image)\n",
        "train_dataset, test_dataset = random_split(dataset, (0.9, 0.1))\n",
        "print(f\"{len(train_dataset)} training samples\")\n",
        "print(f\"{len(test_dataset)} training samples\")"
      ],
      "metadata": {
        "id": "r2bJYmEupuCr"
      },
      "execution_count": null,
      "outputs": []
    },
    {
      "cell_type": "code",
      "source": [
        "train_dataloader = DataLoader(train_dataset, batch_size=32, shuffle=True)\n",
        "test_dataloader = DataLoader(test_dataset, batch_size=32, shuffle=False)"
      ],
      "metadata": {
        "id": "GyVYK1pprlWN"
      },
      "execution_count": null,
      "outputs": []
    },
    {
      "cell_type": "code",
      "source": [
        "model = nn.Sequential(\n",
        "    nn.Dropout(0.1),\n",
        "    nn.Linear(768, 2),\n",
        ").cuda()\n",
        "optimizer = AdamW(model.parameters(), lr=1e-3)"
      ],
      "metadata": {
        "id": "PeAOe6Y2r-zu"
      },
      "execution_count": null,
      "outputs": []
    },
    {
      "cell_type": "code",
      "source": [
        "model.train()\n",
        "pbar = tqdm(train_dataloader)\n",
        "for batch in pbar:\n",
        "    x, y = batch\n",
        "    optimizer.zero_grad()\n",
        "    pred = model(vit_model(x.cuda()).pooler_output)\n",
        "    loss = F.cross_entropy(pred, y.cuda())\n",
        "    loss.backward()\n",
        "    optimizer.step()\n",
        "    pbar.set_description(f\"Loss: {loss.item():.4f}\")"
      ],
      "metadata": {
        "id": "cJd7_jhOqKrM"
      },
      "execution_count": null,
      "outputs": []
    },
    {
      "cell_type": "code",
      "source": [
        "model.eval()\n",
        "correct = 0\n",
        "total = 0\n",
        "with torch.no_grad():\n",
        "    for x, y in test_dataloader:\n",
        "        y_pred = model(vit_model(x.cuda()).pooler_output)\n",
        "        correct += (y_pred.argmax(dim=1) == y.cuda()).sum().item()\n",
        "        total += len(y)\n",
        "    accuracy = correct / total\n",
        "print(accuracy)"
      ],
      "metadata": {
        "id": "bq5mr-Q6rvEw"
      },
      "execution_count": null,
      "outputs": []
    },
    {
      "cell_type": "code",
      "source": [],
      "metadata": {
        "id": "uXnEl92EtN_5"
      },
      "execution_count": null,
      "outputs": []
    }
  ]
}