{
  "nbformat": 4,
  "nbformat_minor": 0,
  "metadata": {
    "colab": {
      "provenance": []
    },
    "kernelspec": {
      "name": "python3",
      "display_name": "Python 3"
    },
    "language_info": {
      "name": "python"
    }
  },
  "cells": [
    {
      "cell_type": "code",
      "execution_count": null,
      "metadata": {
        "id": "c1N6l7VR8jX6"
      },
      "outputs": [],
      "source": [
        "import torch\n",
        "from torch import Tensor"
      ]
    },
    {
      "cell_type": "code",
      "source": [
        "def trilateration_loss(guess: Tensor, ref_points: Tensor, distances: Tensor) -> Tensor:\n",
        "    \"\"\"\n",
        "    Compute the loss function for 2D trilateration. The loss is the squared difference\n",
        "    between the actual distances and the guessed distances to the reference points.\n",
        "\n",
        "    :param guess: Tensor of shape (2,) representing the guessed target location (x, y).\n",
        "    :param ref_points: Tensor of shape (N, 2) representing the coordinates of the reference points.\n",
        "    :param distances: Tensor of shape (N,) representing the distances to the target from the\n",
        "    reference points.\n",
        "    :return: The loss value, a scalar tensor.\n",
        "    \"\"\"\n",
        "    guessed_distances = torch.sqrt(torch.sum((ref_points - guess) ** 2, dim=1))\n",
        "    loss = torch.sum((guessed_distances - distances) ** 2)\n",
        "    return loss"
      ],
      "metadata": {
        "id": "P9NjhqhY8o-J"
      },
      "execution_count": null,
      "outputs": []
    },
    {
      "cell_type": "code",
      "source": [
        "def trilateration(\n",
        "    ref_points: Tensor,\n",
        "    distances: Tensor,\n",
        "    lr: float = 1e-2,\n",
        "    num_iters: int = 1000\n",
        ") -> Tensor:\n",
        "    \"\"\"\n",
        "    Perform 2D trilateration using gradient descent to find the target location.\n",
        "\n",
        "    :param ref_points: Tensor of shape (N, 2) representing the coordinates of the reference points.\n",
        "    :param distances: Tensor of shape (N,) representing the distances to the target from the\n",
        "    reference points.\n",
        "    :param lr: Learning rate for gradient descent.\n",
        "    :param num_iters: Number of iterations to run the gradient descent.\n",
        "    :return: A tensor of shape (2,) representing the optimized target location (x, y).\n",
        "    \"\"\"\n",
        "    guess = torch.randn(2, requires_grad=True)\n",
        "    optimizer = torch.optim.SGD([guess], lr=lr)\n",
        "\n",
        "    for _ in range(num_iters):\n",
        "        optimizer.zero_grad()\n",
        "        loss = trilateration_loss(guess, ref_points, distances)\n",
        "        loss.backward()\n",
        "        optimizer.step()\n",
        "\n",
        "    return guess.detach()"
      ],
      "metadata": {
        "id": "m7P-rWq08qeh"
      },
      "execution_count": null,
      "outputs": []
    },
    {
      "cell_type": "code",
      "source": [
        "reference_points = torch.tensor([[2, -2], [10, 8], [-1, 6]], dtype=torch.float32)\n",
        "distances_to_target = torch.tensor([4, 10, 5], dtype=torch.float32)\n",
        "\n",
        "target_location = trilateration(reference_points, distances_to_target)\n",
        "\n",
        "print(f\"Estimated target location: {target_location}\")"
      ],
      "metadata": {
        "id": "X84Tq5nz9h7C"
      },
      "execution_count": null,
      "outputs": []
    }
  ]
}